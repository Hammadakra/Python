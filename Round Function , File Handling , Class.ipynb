{
 "cells": [
  {
   "cell_type": "markdown",
   "metadata": {},
   "source": [
    "# ADD Function"
   ]
  },
  {
   "cell_type": "code",
   "execution_count": 2,
   "metadata": {},
   "outputs": [
    {
     "name": "stdout",
     "output_type": "stream",
     "text": [
      "Your Result is  11\n"
     ]
    }
   ],
   "source": [
    "def add(a,b):\n",
    "    sum=a+b\n",
    "    print(\"Your Result is \",sum)\n",
    "add(5,6)    "
   ]
  },
  {
   "cell_type": "markdown",
   "metadata": {},
   "source": [
    "# Function Who will round ceil the number with out using ceil & flour"
   ]
  },
  {
   "cell_type": "code",
   "execution_count": 3,
   "metadata": {},
   "outputs": [
    {
     "name": "stdout",
     "output_type": "stream",
     "text": [
      "Enter Number45.6\n",
      "45\n"
     ]
    }
   ],
   "source": [
    "user=input(\"Enter Number\")\n",
    "\n",
    "def RoundDown(user):\n",
    "    \n",
    "    a=user.split(\".\")\n",
    "    print(a[0])\n",
    "    \n",
    "RoundDown(user)    "
   ]
  },
  {
   "cell_type": "markdown",
   "metadata": {},
   "source": [
    "# File Handling"
   ]
  },
  {
   "cell_type": "code",
   "execution_count": 15,
   "metadata": {},
   "outputs": [
    {
     "name": "stdout",
     "output_type": "stream",
     "text": [
      "['Profile URL', 'First Name ', 'Last Name', 'Phone', 'Rating', 'Reviews']\n",
      "['http://www.zillow.com/profile/jsokody/', 'Jason', ' Sokody', '(716) 402-5869', '5.0/5.0', '367 total reviews (94 local) Review 08/12/2019:']\n",
      "['http://www.zillow.com/profile/WesternNY/', 'Matt', ' Quagliano', '(716) 471-9266', '5.0/5.0', '46 total reviews (38 local) Review 08/28/2019:']\n",
      "['http://www.zillow.com/profile/The-Giambra-Team/', 'Nicholas', ' Giambra', '(716) 239-6432', '5.0/5.0', '75 total reviews (57 local) Review 07/16/2019:']\n"
     ]
    }
   ],
   "source": [
    "#File reading\n",
    "import csv\n",
    "with open('Data.csv', 'r') as csvFile:\n",
    "    reader = csv.reader(csvFile)\n",
    "    for row in reader:\n",
    "        print(row)\n",
    "csvFile.close()\n"
   ]
  },
  {
   "cell_type": "code",
   "execution_count": 27,
   "metadata": {},
   "outputs": [],
   "source": [
    "import csv\n",
    "\n",
    "with open('Dataa.csv', mode='w') as file:\n",
    "    writer = csv.writer(file, delimiter=',', quotechar='\"', quoting=csv.QUOTE_MINIMAL)\n",
    "\n",
    "    #way to write to csv file\n",
    "    writer.writerow(['Muhammad ','Hammad','Akram'])\n",
    "     "
   ]
  },
  {
   "cell_type": "code",
   "execution_count": 39,
   "metadata": {},
   "outputs": [
    {
     "name": "stdout",
     "output_type": "stream",
     "text": [
      "python\n",
      "anaconda\n"
     ]
    },
    {
     "data": {
      "text/plain": [
       "<__main__.Snake at 0x5b60eb0>"
      ]
     },
     "execution_count": 39,
     "metadata": {},
     "output_type": "execute_result"
    }
   ],
   "source": [
    "class Snake:\n",
    "\n",
    "    def __init__(self, name):\n",
    "        self.name = name\n",
    "\n",
    "    def change_name(self, new_name):\n",
    "        self.name = new_name\n",
    " # two variables are instantiated\n",
    "python = Snake(\"python\")\n",
    "anaconda = Snake(\"anaconda\")\n",
    "\n",
    " # print the names of the two variables\n",
    "print(python.name)\n",
    "python\n",
    "print(anaconda.name)\n",
    "anaconda"
   ]
  }
 ],
 "metadata": {
  "kernelspec": {
   "display_name": "Python 3",
   "language": "python",
   "name": "python3"
  },
  "language_info": {
   "codemirror_mode": {
    "name": "ipython",
    "version": 3
   },
   "file_extension": ".py",
   "mimetype": "text/x-python",
   "name": "python",
   "nbconvert_exporter": "python",
   "pygments_lexer": "ipython3",
   "version": "3.7.3"
  }
 },
 "nbformat": 4,
 "nbformat_minor": 2
}
