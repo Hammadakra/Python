{
 "cells": [
  {
   "cell_type": "code",
   "execution_count": 28,
   "metadata": {},
   "outputs": [
    {
     "name": "stdout",
     "output_type": "stream",
     "text": [
      "aaaaaaaaaaaaaaaaaaaaaaa\n",
      "False\n"
     ]
    }
   ],
   "source": [
    "class Palindrome:\n",
    "\n",
    "    def reverse(word): \n",
    "        word=list(reversed(word))\n",
    "        for i in range(len(word)):\n",
    "            print(''.join(word[i]),end='')\n",
    "        return word\n",
    "    def is_palindrome(word):\n",
    "        rev=reverse(word)\n",
    "        if word==rev:\n",
    "            return True  \n",
    "        return False\n",
    "word = input()\n",
    "print(is_palindrome(word))"
   ]
  },
  {
   "cell_type": "code",
   "execution_count": null,
   "metadata": {},
   "outputs": [],
   "source": []
  },
  {
   "cell_type": "code",
   "execution_count": 8,
   "metadata": {},
   "outputs": [
    {
     "name": "stdout",
     "output_type": "stream",
     "text": [
      "fasfas"
     ]
    }
   ],
   "source": [
    "s='safsaf'\n",
    "s=list(reversed(s))\n",
    "for i in range(len(s)):\n",
    "    print(''.join(s[i]),end='')"
   ]
  },
  {
   "cell_type": "code",
   "execution_count": 56,
   "metadata": {},
   "outputs": [
    {
     "name": "stdout",
     "output_type": "stream",
     "text": [
      "fajm"
     ]
    }
   ],
   "source": [
    "word='mjaf'\n",
    "def reverse(word): \n",
    "    word=list(reversed(word))\n",
    "    for i in range(len(word)):\n",
    "        a=''.join(word[i])\n",
    "        print(a,end='')\n",
    "        \n",
    "# \n",
    "s=reverse(word)\n",
    "s\n",
    "if word==s:\n",
    "      print('faa')"
   ]
  },
  {
   "cell_type": "code",
   "execution_count": null,
   "metadata": {},
   "outputs": [],
   "source": []
  },
  {
   "cell_type": "code",
   "execution_count": null,
   "metadata": {},
   "outputs": [],
   "source": []
  },
  {
   "cell_type": "code",
   "execution_count": null,
   "metadata": {},
   "outputs": [],
   "source": []
  },
  {
   "cell_type": "code",
   "execution_count": null,
   "metadata": {},
   "outputs": [],
   "source": []
  }
 ],
 "metadata": {
  "kernelspec": {
   "display_name": "Python 3",
   "language": "python",
   "name": "python3"
  },
  "language_info": {
   "codemirror_mode": {
    "name": "ipython",
    "version": 3
   },
   "file_extension": ".py",
   "mimetype": "text/x-python",
   "name": "python",
   "nbconvert_exporter": "python",
   "pygments_lexer": "ipython3",
   "version": "3.7.3"
  }
 },
 "nbformat": 4,
 "nbformat_minor": 2
}
