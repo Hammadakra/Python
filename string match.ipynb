{
 "cells": [
  {
   "cell_type": "code",
   "execution_count": 29,
   "metadata": {},
   "outputs": [
    {
     "name": "stdout",
     "output_type": "stream",
     "text": [
      "Pattern Found 0\n",
      "Pattern Found 2\n"
     ]
    }
   ],
   "source": [
    "string='ABABA'\n",
    "pat='ABA'\n",
    "\n",
    "m=len(string)\n",
    "n=len(pat)\n",
    "for i in range(m-n+1):\n",
    "    j=0\n",
    "    while j<n: \n",
    "        if string[i+j]!=pat[j]:\n",
    "            break\n",
    "        j+=1\n",
    "    if j==n:\n",
    "        print(\"Pattern Found At Index\",i)"
   ]
  },
  {
   "cell_type": "code",
   "execution_count": null,
   "metadata": {},
   "outputs": [],
   "source": []
  }
 ],
 "metadata": {
  "kernelspec": {
   "display_name": "Python 3",
   "language": "python",
   "name": "python3"
  },
  "language_info": {
   "codemirror_mode": {
    "name": "ipython",
    "version": 3
   },
   "file_extension": ".py",
   "mimetype": "text/x-python",
   "name": "python",
   "nbconvert_exporter": "python",
   "pygments_lexer": "ipython3",
   "version": "3.7.3"
  }
 },
 "nbformat": 4,
 "nbformat_minor": 2
}
