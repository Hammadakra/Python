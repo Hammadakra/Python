{
 "cells": [
  {
   "cell_type": "code",
   "execution_count": null,
   "metadata": {},
   "outputs": [],
   "source": [
    " "
   ]
  },
  {
   "cell_type": "code",
   "execution_count": 42,
   "metadata": {},
   "outputs": [
    {
     "data": {
      "text/plain": [
       "dict_values([1, 1, 1, 1, 2, 1])"
      ]
     },
     "execution_count": 42,
     "metadata": {},
     "output_type": "execute_result"
    }
   ],
   "source": [
    "from collections import Counter\n",
    "n=[3,4,5,62,6,2,6]\n",
    "Counter(n).items()\n",
    "Counter(n).values()\n",
    "Counter(n).keys()\n",
    "Counter(n).values()"
   ]
  },
  {
   "cell_type": "code",
   "execution_count": 4,
   "metadata": {},
   "outputs": [
    {
     "name": "stdout",
     "output_type": "stream",
     "text": [
      "Enter Numbers: 3 5 69 \n",
      "<map object at 0x00BD1130>\n"
     ]
    }
   ],
   "source": [
    "d = input(\"Enter Numbers: \").split()\n",
    "d = list(set(d))\n",
    "d = map(int, d)\n",
    "print(d)"
   ]
  },
  {
   "cell_type": "markdown",
   "metadata": {},
   "source": [
    "# Collection Counter"
   ]
  },
  {
   "cell_type": "code",
   "execution_count": 74,
   "metadata": {},
   "outputs": [
    {
     "name": "stdout",
     "output_type": "stream",
     "text": [
      "3 2\n",
      "2\n",
      "3 4\n",
      "34 4\n",
      "4\n"
     ]
    }
   ],
   "source": [
    "from collections import Counter \n",
    "shoes = Counter(map(int,input().split()))\n",
    "sum=0\n",
    "cust=int(input(\"\"))\n",
    "for i in range(cust):\n",
    "    a,b=map(int,input().split())\n",
    "    if shoes[a]:\n",
    "        sum+=b\n",
    "        shoes[a]-=1\n",
    "print(sum)            "
   ]
  },
  {
   "cell_type": "code",
   "execution_count": null,
   "metadata": {},
   "outputs": [],
   "source": [
    " "
   ]
  }
 ],
 "metadata": {
  "kernelspec": {
   "display_name": "Python 3",
   "language": "python",
   "name": "python3"
  },
  "language_info": {
   "codemirror_mode": {
    "name": "ipython",
    "version": 3
   },
   "file_extension": ".py",
   "mimetype": "text/x-python",
   "name": "python",
   "nbconvert_exporter": "python",
   "pygments_lexer": "ipython3",
   "version": "3.7.3"
  }
 },
 "nbformat": 4,
 "nbformat_minor": 2
}
