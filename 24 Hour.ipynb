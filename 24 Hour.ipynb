{
 "cells": [
  {
   "cell_type": "code",
   "execution_count": 5,
   "metadata": {},
   "outputs": [
    {
     "name": "stdout",
     "output_type": "stream",
     "text": [
      "12:45:54PM\n",
      "12:45:54\n"
     ]
    }
   ],
   "source": [
    "def timeConversion(a):\n",
    "    sub='PM'\n",
    "    mor='AM'\n",
    "    if sub in a:\n",
    "        if int(a[:2])<8:\n",
    "            print('1'+str(int(a[:2])%12+2)+a[2:-2])\n",
    "    if sub in a:\n",
    "        if int(a[:2])>=8 and int(a[:2])<12:\n",
    "            print('2'+str(int(a[:2])%8)+a[2:-2])\n",
    "    if sub in a:\n",
    "        if a[:2]=='12':\n",
    "            print(a[:-2])\n",
    "    if mor in a:\n",
    "        if a[:2]=='12':\n",
    "            print('00'+a[2:-2])\n",
    "    if mor in a:\n",
    "        if a[:2]!='12':\n",
    "            print(a[:-2])\n",
    "\n",
    "if __name__ == '__main__':\n",
    "    \n",
    "    a = input()\n",
    "\n",
    "    result = timeConversion(a)\n",
    "\n",
    "    "
   ]
  },
  {
   "cell_type": "code",
   "execution_count": null,
   "metadata": {},
   "outputs": [],
   "source": []
  }
 ],
 "metadata": {
  "kernelspec": {
   "display_name": "Python 3",
   "language": "python",
   "name": "python3"
  },
  "language_info": {
   "codemirror_mode": {
    "name": "ipython",
    "version": 3
   },
   "file_extension": ".py",
   "mimetype": "text/x-python",
   "name": "python",
   "nbconvert_exporter": "python",
   "pygments_lexer": "ipython3",
   "version": "3.7.3"
  }
 },
 "nbformat": 4,
 "nbformat_minor": 2
}
