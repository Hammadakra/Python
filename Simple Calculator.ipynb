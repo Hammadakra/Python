{
 "cells": [
  {
   "cell_type": "code",
   "execution_count": null,
   "metadata": {},
   "outputs": [
    {
     "name": "stdout",
     "output_type": "stream",
     "text": [
      "Enter Two Number\n"
     ]
    }
   ],
   "source": [
    "print(\"Enter Two Number\")\n",
    "\n",
    "FirstNumber=int(input(\"Enter First Number\"))\n",
    "\n",
    "SecondNumber=int(input(\"Enter Second Number\"))\n",
    "\n",
    "\n",
    "AddResult=FirstNumber+SecondNumber\n",
    "print(f\"The Result {AddResult}\")\n",
    "\n"
   ]
  },
  {
   "cell_type": "code",
   "execution_count": null,
   "metadata": {},
   "outputs": [],
   "source": [
    "print(\"Enter Two Number\")\n",
    "\n",
    "FirstNumber=int(input(\"Enter First Number\"))\n",
    "\n",
    "SecondNumber=int(input(\"Enter Second Number\"))\n",
    "\n",
    "\n",
    "AddResult=FirstNumber-SecondNumber\n",
    "print(f\"The Result {AddResult}\")\n"
   ]
  },
  {
   "cell_type": "code",
   "execution_count": 1,
   "metadata": {},
   "outputs": [
    {
     "name": "stdout",
     "output_type": "stream",
     "text": [
      "Enter Two Number\n",
      "Enter First Number5\n",
      "Enter Second Number4\n",
      "The Result 20\n"
     ]
    }
   ],
   "source": [
    "print(\"Enter Two Number\")\n",
    "\n",
    "FirstNumber=int(input(\"Enter First Number\"))\n",
    "\n",
    "SecondNumber=int(input(\"Enter Second Number\"))\n",
    "\n",
    "\n",
    "AddResult=FirstNumber*SecondNumber\n",
    "print(f\"The Result {AddResult}\")\n"
   ]
  },
  {
   "cell_type": "code",
   "execution_count": 4,
   "metadata": {},
   "outputs": [
    {
     "name": "stdout",
     "output_type": "stream",
     "text": [
      "Enter Two Number\n",
      "Enter First Number20\n",
      "Enter Second Number13\n",
      "The Result 1\n"
     ]
    }
   ],
   "source": [
    "print(\"Enter Two Number\")\n",
    "\n",
    "FirstNumber=int(input(\"Enter First Number\"))\n",
    "\n",
    "SecondNumber=int(input(\"Enter Second Number\"))\n",
    "\n",
    "\n",
    "AddResult=FirstNumber//SecondNumber\n",
    "print(f\"The Result {AddResult}\")\n",
    " "
   ]
  },
  {
   "cell_type": "code",
   "execution_count": null,
   "metadata": {},
   "outputs": [],
   "source": []
  },
  {
   "cell_type": "code",
   "execution_count": null,
   "metadata": {},
   "outputs": [],
   "source": []
  },
  {
   "cell_type": "code",
   "execution_count": null,
   "metadata": {},
   "outputs": [],
   "source": []
  },
  {
   "cell_type": "code",
   "execution_count": null,
   "metadata": {},
   "outputs": [],
   "source": []
  },
  {
   "cell_type": "code",
   "execution_count": null,
   "metadata": {},
   "outputs": [],
   "source": []
  },
  {
   "cell_type": "code",
   "execution_count": null,
   "metadata": {},
   "outputs": [],
   "source": []
  }
 ],
 "metadata": {
  "kernelspec": {
   "display_name": "Python 3",
   "language": "python",
   "name": "python3"
  },
  "language_info": {
   "codemirror_mode": {
    "name": "ipython",
    "version": 3
   },
   "file_extension": ".py",
   "mimetype": "text/x-python",
   "name": "python",
   "nbconvert_exporter": "python",
   "pygments_lexer": "ipython3",
   "version": "3.7.3"
  }
 },
 "nbformat": 4,
 "nbformat_minor": 2
}
