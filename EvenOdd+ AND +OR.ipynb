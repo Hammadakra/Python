{
 "cells": [
  {
   "cell_type": "markdown",
   "metadata": {},
   "source": [
    "# Even Odd "
   ]
  },
  {
   "cell_type": "code",
   "execution_count": 34,
   "metadata": {},
   "outputs": [
    {
     "name": "stdout",
     "output_type": "stream",
     "text": [
      "Enter Number To find Number is Even or Odd 56\n",
      "Number is Even\n"
     ]
    }
   ],
   "source": [
    "number=int(input(\"Enter Number To find Number is Even or Odd \"))\n",
    "if (number % 2) == 0 :\n",
    "    print(\"Number is Even\")\n",
    "else:\n",
    "    print(\"Number Is odd\")\n",
    "           "
   ]
  },
  {
   "cell_type": "markdown",
   "metadata": {},
   "source": [
    "# OR"
   ]
  },
  {
   "cell_type": "code",
   "execution_count": 44,
   "metadata": {},
   "outputs": [
    {
     "name": "stdout",
     "output_type": "stream",
     "text": [
      "Both set of Variable Is not Equal\n"
     ]
    }
   ],
   "source": [
    "w=9\n",
    "x=4\n",
    "y=9\n",
    "z=94\n",
    "if(w==x or y==z):\n",
    "    print(\"One set of variable is equal\")\n",
    "else:\n",
    "    print(\"Both set of Variable Is not Equal\")\n"
   ]
  },
  {
   "cell_type": "markdown",
   "metadata": {},
   "source": [
    "# And"
   ]
  },
  {
   "cell_type": "code",
   "execution_count": 46,
   "metadata": {},
   "outputs": [
    {
     "name": "stdout",
     "output_type": "stream",
     "text": [
      "And Else\n"
     ]
    }
   ],
   "source": [
    "w=9\n",
    "x=9\n",
    "y=9\n",
    "z=94\n",
    "if(w==x and y==z):\n",
    "    print(\"Both set of Variable Is Equal\")\n",
    "else:\n",
    "    print(\"And Else\")\n"
   ]
  },
  {
   "cell_type": "markdown",
   "metadata": {},
   "source": [
    "# AND + OR"
   ]
  },
  {
   "cell_type": "code",
   "execution_count": 51,
   "metadata": {},
   "outputs": [
    {
     "name": "stdout",
     "output_type": "stream",
     "text": [
      "One set of variable is equal\n"
     ]
    }
   ],
   "source": [
    "w=9\n",
    "x=9\n",
    "wx=2\n",
    "xz=2\n",
    "y=9\n",
    "z=94\n",
    "if(w==x or y==z) and wx==xz:\n",
    "    print(\"One set of variable is equal\")\n",
    "else:\n",
    "    print(\"Both set of Variable Is not Equal\")\n"
   ]
  },
  {
   "cell_type": "code",
   "execution_count": null,
   "metadata": {},
   "outputs": [],
   "source": []
  }
 ],
 "metadata": {
  "kernelspec": {
   "display_name": "Python 3",
   "language": "python",
   "name": "python3"
  },
  "language_info": {
   "codemirror_mode": {
    "name": "ipython",
    "version": 3
   },
   "file_extension": ".py",
   "mimetype": "text/x-python",
   "name": "python",
   "nbconvert_exporter": "python",
   "pygments_lexer": "ipython3",
   "version": "3.7.3"
  }
 },
 "nbformat": 4,
 "nbformat_minor": 2
}
