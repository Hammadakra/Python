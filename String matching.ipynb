{
 "cells": [
  {
   "cell_type": "code",
   "execution_count": 14,
   "metadata": {},
   "outputs": [
    {
     "name": "stdout",
     "output_type": "stream",
     "text": [
      "0 3 5 7 9 13 18 21 30 45 47 50 69 71 84\n"
     ]
    }
   ],
   "source": [
    "text='0100101010100010110100100110110100011100111110101001011001110111110000101011011111011001111100011101'\n",
    "pat='010'\n",
    "count=0\n",
    "t=len(text)\n",
    "p=len(pat)\n",
    "for i in range(t-p+1):\n",
    "    j=0\n",
    "    while(j<p):\n",
    "        if text[i+j]!=pat[j]:\n",
    "            break\n",
    "        j+=1\n",
    "    if j==p:\n",
    "        print(i,end=' ')\n",
    "    else:    \n",
    "        count+=1\n",
    "        \n",
    "print(count)        "
   ]
  },
  {
   "cell_type": "code",
   "execution_count": 13,
   "metadata": {},
   "outputs": [
    {
     "data": {
      "text/plain": [
       "84"
      ]
     },
     "execution_count": 13,
     "metadata": {},
     "output_type": "execute_result"
    }
   ],
   "source": [
    "count"
   ]
  },
  {
   "cell_type": "code",
   "execution_count": 28,
   "metadata": {},
   "outputs": [
    {
     "name": "stdout",
     "output_type": "stream",
     "text": [
      "1\n",
      "11 5555556\n",
      "2354\n"
     ]
    }
   ],
   "source": [
    "import math\n",
    "def squares(a, b):\n",
    "    count=0\n",
    "    for i in range(a,b+1):\n",
    "        if int(math.sqrt(i))**2==i:\n",
    "            count+=1\n",
    "\n",
    "    print(count )       \n",
    "if __name__ == '__main__':\n",
    "\n",
    "    q = int(input())\n",
    "\n",
    "    for q_itr in range(q):\n",
    "        ab = input().split()\n",
    "\n",
    "        a = int(ab[0])\n",
    "\n",
    "        b = int(ab[1])\n",
    "\n",
    "        result = squares(a, b)"
   ]
  },
  {
   "cell_type": "code",
   "execution_count": 27,
   "metadata": {},
   "outputs": [
    {
     "name": "stdout",
     "output_type": "stream",
     "text": [
      "yes 9.0\n"
     ]
    }
   ],
   "source": [
    "i=9\n",
    "\n",
    "if int(math.sqrt(i))**2==i:\n",
    "    print('yes',(math.sqrt(i))**2)\n",
    "else:\n",
    "    print(math.sqrt(i)**2)"
   ]
  },
  {
   "cell_type": "code",
   "execution_count": 12,
   "metadata": {},
   "outputs": [
    {
     "data": {
      "text/plain": [
       "10"
      ]
     },
     "execution_count": 12,
     "metadata": {},
     "output_type": "execute_result"
    }
   ],
   "source": [
    "math.ceil(9.4)"
   ]
  },
  {
   "cell_type": "code",
   "execution_count": null,
   "metadata": {},
   "outputs": [],
   "source": [
    "math.floor"
   ]
  },
  {
   "cell_type": "code",
   "execution_count": 29,
   "metadata": {},
   "outputs": [
    {
     "name": "stdout",
     "output_type": "stream",
     "text": [
      "2354\n"
     ]
    }
   ],
   "source": [
    "numOfSquares = 0\n",
    "x = 1\n",
    "\n",
    "while(x*x < a):\n",
    "    x+=1\n",
    "while(x*x <= b):\n",
    "    numOfSquares+=1\n",
    "    x+=1\n",
    "print(numOfSquares)"
   ]
  },
  {
   "cell_type": "code",
   "execution_count": null,
   "metadata": {},
   "outputs": [],
   "source": []
  }
 ],
 "metadata": {
  "kernelspec": {
   "display_name": "Python 3",
   "language": "python",
   "name": "python3"
  },
  "language_info": {
   "codemirror_mode": {
    "name": "ipython",
    "version": 3
   },
   "file_extension": ".py",
   "mimetype": "text/x-python",
   "name": "python",
   "nbconvert_exporter": "python",
   "pygments_lexer": "ipython3",
   "version": "3.7.3"
  }
 },
 "nbformat": 4,
 "nbformat_minor": 2
}
