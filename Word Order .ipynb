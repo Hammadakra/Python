{
 "cells": [
  {
   "cell_type": "code",
   "execution_count": 107,
   "metadata": {
    "scrolled": true
   },
   "outputs": [
    {
     "name": "stdout",
     "output_type": "stream",
     "text": [
      "3\n",
      "Ali\n",
      "Khan\n",
      "Ali\n",
      "2\n",
      "2 1 "
     ]
    }
   ],
   "source": [
    "from collections import Counter\n",
    "user=int(input())\n",
    "a=[]\n",
    "for i in range(user): \n",
    "        lItem=input()\n",
    "        a.append(lItem)\n",
    "        \n",
    "print(len(Counter(a))) \n",
    "dict=Counter(a)\n",
    "for i in dict:\n",
    "    print(dict[i],end=' ')\n"
   ]
  }
 ],
 "metadata": {
  "kernelspec": {
   "display_name": "Python 3",
   "language": "python",
   "name": "python3"
  },
  "language_info": {
   "codemirror_mode": {
    "name": "ipython",
    "version": 3
   },
   "file_extension": ".py",
   "mimetype": "text/x-python",
   "name": "python",
   "nbconvert_exporter": "python",
   "pygments_lexer": "ipython3",
   "version": "3.7.3"
  }
 },
 "nbformat": 4,
 "nbformat_minor": 2
}
