{
 "cells": [
  {
   "cell_type": "code",
   "execution_count": 7,
   "metadata": {},
   "outputs": [
    {
     "name": "stdout",
     "output_type": "stream",
     "text": [
      "2\n",
      "3 2\n",
      "-1 2 3\n",
      "2 2\n",
      "-4 3\n",
      "v\n",
      "v\n",
      "f\n",
      "f\n",
      "\n",
      "NO\n"
     ]
    }
   ],
   "source": [
    "countP=0\n",
    "countN=0\n",
    "         \n",
    "t = int(input())\n",
    "\n",
    "for t_itr in range(t):\n",
    "    nk = input().split()\n",
    "\n",
    "    n = int(nk[0])\n",
    "\n",
    "    k = int(nk[1])\n",
    "\n",
    "    a = list(map(int, input().rstrip().split())) \n",
    "for i in range(t):\n",
    "    for j in range(len(a)):\n",
    "        if a[i]>0:\n",
    "            countN+=1\n",
    "            print('f')\n",
    "        else:\n",
    "            print('v')\n",
    "            countP+=1    \n",
    "if countN<=k:\n",
    "    print(\"\")  \n",
    "if countP>=k:\n",
    "     print(\"NO\")\n",
    " "
   ]
  },
  {
   "cell_type": "code",
   "execution_count": 7,
   "metadata": {
    "scrolled": true
   },
   "outputs": [
    {
     "name": "stdout",
     "output_type": "stream",
     "text": [
      "2\n",
      "3 2\n",
      "2 4 6\n",
      "2 1\n",
      "2 6\n",
      "[2, 6]\n"
     ]
    }
   ],
   "source": [
    "2\n",
    "4 3\n",
    "-1 -3 4 2\n",
    "4 2\n",
    "0 -1 2 1\n",
    "\n",
    "\n",
    "t = int(input())\n",
    "l=[]\n",
    "for t_itr in range(t):\n",
    "    nk = input().split()\n",
    "\n",
    "    n = int(nk[0])\n",
    "\n",
    "    k = int(nk[1])\n",
    "\n",
    "    a = list(map(int, input().rstrip().split()))\n",
    "    l.append(a[t_itr])\n",
    "print(l)"
   ]
  },
  {
   "cell_type": "code",
   "execution_count": 13,
   "metadata": {},
   "outputs": [
    {
     "name": "stdout",
     "output_type": "stream",
     "text": [
      "2\n",
      "3 2\n",
      "-1 -7 2\n",
      "NO\n",
      "2 1\n",
      "5 4\n",
      "YES\n"
     ]
    }
   ],
   "source": [
    "t = int(input())\n",
    "\n",
    "for t_itr in range(t):\n",
    "    nk = input().split()\n",
    "\n",
    "    n = int(nk[0])\n",
    "\n",
    "    k = int(nk[1])\n",
    "\n",
    "    a = list(map(int, input().rstrip().split()))\n",
    "\n",
    "    print( \"YES\" if sum([1  for x in a if x<=0 ])<k else \"NO\")\n",
    "   "
   ]
  }
 ],
 "metadata": {
  "kernelspec": {
   "display_name": "Python 3",
   "language": "python",
   "name": "python3"
  },
  "language_info": {
   "codemirror_mode": {
    "name": "ipython",
    "version": 3
   },
   "file_extension": ".py",
   "mimetype": "text/x-python",
   "name": "python",
   "nbconvert_exporter": "python",
   "pygments_lexer": "ipython3",
   "version": "3.7.3"
  }
 },
 "nbformat": 4,
 "nbformat_minor": 2
}
