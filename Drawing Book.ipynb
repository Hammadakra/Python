{
 "cells": [
  {
   "cell_type": "code",
   "execution_count": 85,
   "metadata": {},
   "outputs": [
    {
     "name": "stdout",
     "output_type": "stream",
     "text": [
      "2\n",
      "3\n",
      "4\n"
     ]
    }
   ],
   "source": [
    "pageOfBook=7\n",
    "Cpage=\n",
    "pCount=0\n",
    "a=[str(i) for i in range(2,pageOfBook-1)]\n",
    "a\n",
    "for i in range(len(a)-1):\n",
    "    if int(a[i])!=Cpage and int(a[i+1])!=Cpage:\n",
    "        print(int(a[i]))"
   ]
  },
  {
   "cell_type": "code",
   "execution_count": 86,
   "metadata": {},
   "outputs": [],
   "source": [
    "for i in range(1,pageOfBook,-1):\n",
    "    print(i)"
   ]
  },
  {
   "cell_type": "code",
   "execution_count": 203,
   "metadata": {},
   "outputs": [
    {
     "name": "stdout",
     "output_type": "stream",
     "text": [
      "0\n"
     ]
    }
   ],
   "source": [
    "pageOfBook=6\n",
    "Cpage=5\n",
    "pCountS=0\n",
    "pCountE=0\n",
    "\n",
    "for i in range(1,Cpage,2):\n",
    "    pCountS+=1\n",
    "for k in range(pageOfBook,Cpage+1,-2):\n",
    "    pCountE+=1\n",
    "if pCountS < pCountE:\n",
    "    print(pCountS)\n",
    "else:\n",
    "    print(pCountE)"
   ]
  },
  {
   "cell_type": "code",
   "execution_count": 199,
   "metadata": {
    "scrolled": true
   },
   "outputs": [
    {
     "name": "stdout",
     "output_type": "stream",
     "text": [
      "7\n"
     ]
    }
   ],
   "source": [
    "for k in range(pageOfBook,Cpage+1,-2):\n",
    "    print(k)"
   ]
  },
  {
   "cell_type": "code",
   "execution_count": 191,
   "metadata": {},
   "outputs": [
    {
     "name": "stdout",
     "output_type": "stream",
     "text": [
      "6\n",
      "2\n"
     ]
    },
    {
     "data": {
      "text/plain": [
       "3"
      ]
     },
     "execution_count": 191,
     "metadata": {},
     "output_type": "execute_result"
    }
   ],
   "source": [
    "n = int(input().strip())\n",
    "p = int(input().strip())\n",
    "\n",
    "min(p//2,n//2-p//2)\n",
    "p//2\n",
    "n//2"
   ]
  }
 ],
 "metadata": {
  "kernelspec": {
   "display_name": "Python 3",
   "language": "python",
   "name": "python3"
  },
  "language_info": {
   "codemirror_mode": {
    "name": "ipython",
    "version": 3
   },
   "file_extension": ".py",
   "mimetype": "text/x-python",
   "name": "python",
   "nbconvert_exporter": "python",
   "pygments_lexer": "ipython3",
   "version": "3.7.3"
  }
 },
 "nbformat": 4,
 "nbformat_minor": 2
}
