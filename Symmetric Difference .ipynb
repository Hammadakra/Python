{
 "cells": [
  {
   "cell_type": "code",
   "execution_count": 49,
   "metadata": {},
   "outputs": [
    {
     "name": "stdout",
     "output_type": "stream",
     "text": [
      "3\n",
      "Enter Set One Element4 5 2 4 \n",
      "{'4', '2', '5'}\n"
     ]
    }
   ],
   "source": [
    "input()\n",
    "a=set(input('Enter Set One Element').split())\n",
    "# b=set(map(int,input('Enter Set Tw Element').split()))\n",
    "print(a) "
   ]
  },
  {
   "cell_type": "code",
   "execution_count": 54,
   "metadata": {
    "scrolled": true
   },
   "outputs": [
    {
     "name": "stdout",
     "output_type": "stream",
     "text": [
      "2\n",
      "Enter Set One Elementr t 3 2\n",
      "Enter Set Tw Elementt 3 5 2\n",
      "5\n",
      "r\n"
     ]
    }
   ],
   "source": [
    "input()\n",
    "a=set(input('Enter Set One Element').split())\n",
    "b=set(input('Enter Set Tw Element').split())\n",
    "c=a.difference(b)\n",
    "d=b.difference(a)\n",
    "g=c.union(d)\n",
    "s=list(g)\n",
    "b=sorted(s)\n",
    "for i in b:\n",
    "    print(i)"
   ]
  },
  {
   "cell_type": "code",
   "execution_count": 50,
   "metadata": {
    "scrolled": true
   },
   "outputs": [
    {
     "name": "stdout",
     "output_type": "stream",
     "text": [
      "2\n",
      "3 4 5 6 \n",
      "5 3 6 3 2\n",
      "5 5 6 2 \n",
      "2\n",
      "3\n",
      "4\n"
     ]
    }
   ],
   "source": [
    "a,b = [set(input().split()) for _ in range(4)][1::2]\n",
    "print(*sorted(a^b, key=int), sep='\\n')"
   ]
  },
  {
   "cell_type": "code",
   "execution_count": 1,
   "metadata": {
    "scrolled": true
   },
   "outputs": [
    {
     "name": "stdout",
     "output_type": "stream",
     "text": [
      "4\n",
      "2 4 5 9\n",
      "4\n",
      "2 4 11 12\n",
      "['1', '1']\n",
      "['1', '2']\n",
      "['5']\n",
      "['9']\n"
     ]
    }
   ],
   "source": [
    "user=int(input())\n",
    "a=set(input().split())\n",
    "user1=int(input())\n",
    "b=set(input().split())\n",
    "c=a.difference(b)\n",
    "d=b.difference(a)\n",
    "g=c.union(d)\n",
    "s=list(g)\n",
    "g=sorted(s)\n",
    "for i in g:\n",
    "    print(i)\n"
   ]
  },
  {
   "cell_type": "code",
   "execution_count": 81,
   "metadata": {
    "scrolled": true
   },
   "outputs": [
    {
     "name": "stdout",
     "output_type": "stream",
     "text": [
      "4\n",
      "2 4 5 9\n",
      "4\n",
      "2 4 11 12\n"
     ]
    },
    {
     "data": {
      "text/plain": [
       "['11', '12', '5', '9']"
      ]
     },
     "execution_count": 81,
     "metadata": {},
     "output_type": "execute_result"
    }
   ],
   "source": [
    "user=int(input())\n",
    "a=set(input().split())\n",
    "user1=int(input())\n",
    "b=set(input().split())\n",
    "s=a^b\n",
    "c=list(sorted(s))\n",
    "c"
   ]
  },
  {
   "cell_type": "code",
   "execution_count": 86,
   "metadata": {},
   "outputs": [
    {
     "name": "stdout",
     "output_type": "stream",
     "text": [
      "4\n",
      "2 4 5 9\n",
      "4\n",
      "2 4 11 12\n",
      "9\n",
      "11\n",
      "12\n",
      "5\n"
     ]
    }
   ],
   "source": [
    "user=int(input())\n",
    "a=set(input().split())\n",
    "user1=int(input())\n",
    "b=set(input().split())\n",
    "v=a.symmetric_difference(b)\n",
    "# aa=list(sorted(v))\n",
    "for i in v:\n",
    "    print(i)"
   ]
  },
  {
   "cell_type": "code",
   "execution_count": null,
   "metadata": {},
   "outputs": [],
   "source": []
  }
 ],
 "metadata": {
  "kernelspec": {
   "display_name": "Python 3",
   "language": "python",
   "name": "python3"
  },
  "language_info": {
   "codemirror_mode": {
    "name": "ipython",
    "version": 3
   },
   "file_extension": ".py",
   "mimetype": "text/x-python",
   "name": "python",
   "nbconvert_exporter": "python",
   "pygments_lexer": "ipython3",
   "version": "3.7.3"
  }
 },
 "nbformat": 4,
 "nbformat_minor": 2
}
