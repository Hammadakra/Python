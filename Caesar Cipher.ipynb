{
 "cells": [
  {
   "cell_type": "code",
   "execution_count": 55,
   "metadata": {},
   "outputs": [
    {
     "name": "stdout",
     "output_type": "stream",
     "text": [
      "okffng-Qwvyb"
     ]
    }
   ],
   "source": [
    "a='middle-Outwz'\n",
    "k=2\n",
    "for i in range(len(a)):\n",
    "    if 97 <= ord(a[i]) <= 122:\n",
    "         print(chr(((ord(a[i])-97+k)%26)+97),end='')\n",
    "    elif 65 <= ord(a[i]) <= 90:\n",
    "        print(chr(((ord(a[i])-65+k)%26)+65),end='')\n",
    "    else:\n",
    "        print(a[i],end='')"
   ]
  }
 ],
 "metadata": {
  "kernelspec": {
   "display_name": "Python 3",
   "language": "python",
   "name": "python3"
  },
  "language_info": {
   "codemirror_mode": {
    "name": "ipython",
    "version": 3
   },
   "file_extension": ".py",
   "mimetype": "text/x-python",
   "name": "python",
   "nbconvert_exporter": "python",
   "pygments_lexer": "ipython3",
   "version": "3.7.3"
  }
 },
 "nbformat": 4,
 "nbformat_minor": 2
}
